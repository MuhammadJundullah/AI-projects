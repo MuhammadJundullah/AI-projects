{
  "nbformat": 4,
  "nbformat_minor": 0,
  "metadata": {
    "colab": {
      "private_outputs": true,
      "provenance": [],
      "mount_file_id": "1f7tYo6stw8yQBDIPtkaoI9dU6XR4dLBw",
      "authorship_tag": "ABX9TyMUagUEOikAgYDCIDZZ+O9+",
      "include_colab_link": true
    },
    "kernelspec": {
      "name": "python3",
      "display_name": "Python 3"
    },
    "language_info": {
      "name": "python"
    }
  },
  "cells": [
    {
      "cell_type": "markdown",
      "metadata": {
        "id": "view-in-github",
        "colab_type": "text"
      },
      "source": [
        "<a href=\"https://colab.research.google.com/github/MuhammadJundullah/AI-projects/blob/main/YOLO_project_detect_4_object/use_yolo_model.ipynb\" target=\"_parent\"><img src=\"https://colab.research.google.com/assets/colab-badge.svg\" alt=\"Open In Colab\"/></a>"
      ]
    },
    {
      "cell_type": "code",
      "execution_count": null,
      "metadata": {
        "id": "AVPHkzHPwBfy"
      },
      "outputs": [],
      "source": [
        "!pip install ultralytics"
      ]
    },
    {
      "cell_type": "code",
      "source": [
        "from google.colab import drive\n",
        "drive.mount(\"/content/gdrive\")"
      ],
      "metadata": {
        "id": "jz1ED56AevX2"
      },
      "execution_count": null,
      "outputs": []
    },
    {
      "cell_type": "code",
      "source": [
        "from ultralytics import YOLO\n",
        "\n",
        "# Cek apakah YOLOv8 sudah terinstal\n",
        "YOLO().info()"
      ],
      "metadata": {
        "id": "NrZAqU9ZwFZo"
      },
      "execution_count": null,
      "outputs": []
    },
    {
      "cell_type": "code",
      "source": [
        "model = YOLO(\"/content/gdrive/MyDrive/Colab Notebooks/YOLO_project_detect_4_object/my_model/my_model.pt\")  # Ganti dengan model lain jika perlu"
      ],
      "metadata": {
        "id": "8n2pEk--wrsh"
      },
      "execution_count": null,
      "outputs": []
    },
    {
      "cell_type": "code",
      "source": [
        "# Path video input\n",
        "input_video = \"/content/gdrive/MyDrive/Colab Notebooks/YOLO_project_detect_4_object/vid.mov\"\n",
        "\n",
        "# Path output kustom\n",
        "custom_output_dir = \"/content/gdrive/MyDrive/Colab Notebooks/YOLO_project_detect_4_object/Detection_Output\"\n",
        "\n",
        "# Prediksi dengan penyimpanan kustom\n",
        "results = model.predict(\n",
        "    source=input_video,\n",
        "    project=custom_output_dir,  # Direktori utama\n",
        "    name=\"exp_video\",          # Sub-direktori\n",
        "    save=True,                 # Simpan hasil\n",
        "    exist_ok=True,             # Timpa jika folder sudah ada\n",
        "    conf=0.5                   # Threshold confidence\n",
        ")[0]\n",
        "\n",
        "results.show()"
      ],
      "metadata": {
        "id": "M3joYSo_wzut"
      },
      "execution_count": null,
      "outputs": []
    },
    {
      "cell_type": "code",
      "source": [],
      "metadata": {
        "id": "O0DnFQSAiAXq"
      },
      "execution_count": null,
      "outputs": []
    }
  ]
}